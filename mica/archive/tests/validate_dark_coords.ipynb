{
 "cells": [
  {
   "cell_type": "markdown",
   "metadata": {},
   "source": [
    "## Validate dark cal coordinates and compare to dynamic dark map\n",
    "\n",
    "Use dynamic dark current sampling (on-the-fly warm pixels) in order to explicitly compare known pixel coordinate values to those in a dark cal map which is read by `aca_dark` routines.  This validates that the row/col coordinates in a dark map, accessed using the new standard `dark_map.aca[row, col]` idiom, is correct.\n",
    "\n",
    "Side goals:\n",
    "- Demonstrate a real-world use of the `ACAImage` class from `chandra_aca.aca_image`\n",
    "- Investigate for one case the variability of warm/hot pixels"
   ]
  },
  {
   "cell_type": "code",
   "execution_count": 1,
   "metadata": {
    "collapsed": true
   },
   "outputs": [],
   "source": [
    "import numpy as np\n",
    "\n",
    "from Chandra.Time import DateTime\n",
    "from kadi import events\n",
    "from mica.archive import aca_l0, aca_dark\n",
    "from chandra_aca.aca_image import ACAImage\n",
    "import matplotlib.pyplot as plt\n",
    "%matplotlib inline"
   ]
  },
  {
   "cell_type": "code",
   "execution_count": 2,
   "metadata": {
    "collapsed": false
   },
   "outputs": [],
   "source": [
    "obsid = 50804  # Our favorite obsid with a faint star in slot 7\n",
    "slot = 7\n",
    "dwells = events.dwells.filter(obsid=obsid)\n",
    "tstart = dwells[0].tstart\n",
    "dur = 1000\n",
    "\n",
    "# Get 1000 seconds of images\n",
    "imgs = aca_l0.get_l0_images(tstart, tstart + dur, slot=7)"
   ]
  },
  {
   "cell_type": "code",
   "execution_count": 3,
   "metadata": {
    "collapsed": true
   },
   "outputs": [],
   "source": [
    "# Make a stack of 100 images (30x30) to hold dynamic dark current samples.\n",
    "# This is an alternate implementation from the keyed deque version.\n",
    "max_n_samples = 100\n",
    "sz = 32  # +/- 16 pixels is plenty big\n",
    "row0 = imgs[0].row0 - sz/2\n",
    "col0 = imgs[0].col0 - sz/2\n",
    "\n",
    "# Stack (list) of pixel samples (ACAImage objects)\n",
    "samples = [ACAImage(shape=(sz, sz), row0=row0, col0=col0) for i in range(max_n_samples)]\n",
    "\n",
    "# Keep track of how many samples for each pixel\n",
    "n_samples = ACAImage(shape=(sz, sz), row0=row0, col0=col0, dtype=int)"
   ]
  },
  {
   "cell_type": "code",
   "execution_count": 4,
   "metadata": {
    "collapsed": true
   },
   "outputs": [],
   "source": [
    "# Trick to get a list of (r, c) tuples corresponding to the edge of 8x8 image\n",
    "x = np.ones((8, 8))\n",
    "x[1:7, 1:7] = 0\n",
    "rcs = zip(*np.where(x == 1))\n",
    "\n",
    "# Do the actual work of collecting samples.  If there are more than\n",
    "# max_n_samples then roll over.\n",
    "for img in imgs:\n",
    "    for r, c in rcs:\n",
    "        row, col = r + img.row0, c + img.col0\n",
    "        ii = n_samples.aca[row, col] % max_n_samples\n",
    "        samples[ii].aca[row, col] = img.aca[row, col]\n",
    "        n_samples.aca[row, col] += 1"
   ]
  },
  {
   "cell_type": "code",
   "execution_count": 5,
   "metadata": {
    "collapsed": true
   },
   "outputs": [],
   "source": [
    "# Get the row and column indices with at least 5 samples\n",
    "rs, cs = np.where(n_samples > 5)\n",
    "rows = rs + n_samples.row0\n",
    "cols = cs + n_samples.col0\n",
    "\n",
    "# Find the bounding box and make a new ACAImage to contain it\n",
    "rmin = np.min(rows)\n",
    "rmax = np.max(rows)\n",
    "cmin = np.min(cols)\n",
    "cmax = np.max(cols)\n",
    "dynam_dark_map = ACAImage(shape=(rmax-rmin+1, cmax-cmin+1),\n",
    "                          row0=rmin, col0=cmin)"
   ]
  },
  {
   "cell_type": "code",
   "execution_count": 6,
   "metadata": {
    "collapsed": true
   },
   "outputs": [],
   "source": [
    "# Go through the list of pixels that are sampled at least 5 times\n",
    "for row, col in zip(rows, cols):\n",
    "    values = [sample.aca[row, col] for sample in samples[:n_samples.aca[row, col]]]\n",
    "    dynam_dark_map.aca[row, col] = np.median(values) * 5 / 1.696  # e-/sec"
   ]
  },
  {
   "cell_type": "code",
   "execution_count": 7,
   "metadata": {
    "collapsed": false
   },
   "outputs": [],
   "source": [
    "# Now get the nearest dark current calibration and make into an ACAImage object\n",
    "dark_cal = aca_dark.get_dark_cal_image(tstart, select='nearest')\n",
    "dark_cal = ACAImage(dark_cal, row0=-512, col0=-512)"
   ]
  },
  {
   "cell_type": "code",
   "execution_count": 8,
   "metadata": {
    "collapsed": true
   },
   "outputs": [],
   "source": [
    "# Select the same box as our dynamic dark map.  This is guaranteed to\n",
    "# cover the same absolute CCD pixels and have the same size.\n",
    "dark_cal_map = dark_cal[dynam_dark_map]"
   ]
  },
  {
   "cell_type": "code",
   "execution_count": 9,
   "metadata": {
    "collapsed": true
   },
   "outputs": [],
   "source": [
    "# Set both maps to -50 where it is not sampled\n",
    "\n",
    "# First select only the dynam_dark_map section of the original n_samples array.\n",
    "n_samples_map = n_samples[dynam_dark_map]\n",
    "\n",
    "rs, cs = np.where(n_samples_map <= 5)\n",
    "rows = rs + n_samples_map.row0\n",
    "cols = cs + n_samples_map.col0\n",
    "for row, col in zip(rows, cols):\n",
    "    dark_cal_map.aca[row, col] = -50\n",
    "    dynam_dark_map.aca[row, col] = -50"
   ]
  },
  {
   "cell_type": "code",
   "execution_count": 10,
   "metadata": {
    "collapsed": false
   },
   "outputs": [
    {
     "data": {
      "image/png": "[encoded data removed]",
      "text/plain": [
       "<matplotlib.figure.Figure at 0x7f509ed01190>"
      ]
     },
     "metadata": {},
     "output_type": "display_data"
    }
   ],
   "source": [
    "# Compare images <==>  LOOKS GOOD!\n",
    "plt.close(0)\n",
    "plt.figure(0, figsize=(10, 4))\n",
    "vmin = -50\n",
    "vmax = 450\n",
    "plt.subplot(1, 2, 1)\n",
    "plt.imshow(dark_cal_map, vmin=vmin, vmax=vmax, interpolation='nearest')\n",
    "plt.subplot(1, 2, 2)\n",
    "plt.imshow(dynam_dark_map, vmin=vmin, vmax=vmax, interpolation='nearest');"
   ]
  }
 ],
 "metadata": {
  "kernelspec": {
   "display_name": "Python 2",
   "language": "python",
   "name": "python2"
  },
  "language_info": {
   "codemirror_mode": {
    "name": "ipython",
    "version": 2
   },
   "file_extension": ".py",
   "mimetype": "text/x-python",
   "name": "python",
   "nbconvert_exporter": "python",
   "pygments_lexer": "ipython2",
   "version": "2.7.9"
  }
 },
 "nbformat": 4,
 "nbformat_minor": 0
}
